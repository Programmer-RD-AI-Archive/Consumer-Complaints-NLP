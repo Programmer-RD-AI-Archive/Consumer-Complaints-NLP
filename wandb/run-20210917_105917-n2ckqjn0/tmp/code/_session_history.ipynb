{
 "cells": [
  {
   "cell_type": "code",
   "execution_count": 1,
   "id": "e34f1672",
   "metadata": {},
   "outputs": [],
   "source": [
    "import nltk\n",
    "from nltk.stem.porter import *\n",
    "from torch.nn import *\n",
    "from torch.optim import *\n",
    "import numpy as np\n",
    "import pandas as pd\n",
    "import torch,torchvision\n",
    "import random\n",
    "from tqdm import *\n",
    "from torch.utils.data import Dataset,DataLoader\n",
    "stemmer = PorterStemmer()"
   ]
  },
  {
   "cell_type": "code",
   "execution_count": 2,
   "id": "fd50bfc2",
   "metadata": {},
   "outputs": [],
   "source": [
    "def tokenize(sentence):\n",
    "    return nltk.word_tokenize(sentence)"
   ]
  },
  {
   "cell_type": "code",
   "execution_count": 3,
   "id": "659b9a06",
   "metadata": {},
   "outputs": [
    {
     "name": "stdout",
     "output_type": "stream",
     "text": [
      "['$', '1000']"
     ]
    }
   ],
   "source": [
    "tokenize('$1000')"
   ]
  },
  {
   "cell_type": "code",
   "execution_count": 4,
   "id": "06afcf10",
   "metadata": {},
   "outputs": [],
   "source": [
    "def stem(word):\n",
    "    return stemmer.stem(word.lower())"
   ]
  },
  {
   "cell_type": "code",
   "execution_count": 5,
   "id": "b4453f0a",
   "metadata": {},
   "outputs": [
    {
     "name": "stdout",
     "output_type": "stream",
     "text": [
      "'organ'"
     ]
    }
   ],
   "source": [
    "stem('organic')"
   ]
  },
  {
   "cell_type": "code",
   "execution_count": 6,
   "id": "a736df1c",
   "metadata": {},
   "outputs": [],
   "source": [
    "def bag_of_words(tokenized_words,all_words):\n",
    "    tokenized_words = [stem(w) for w in tokenized_words]\n",
    "    bag = np.zeros(len(all_words))\n",
    "    for idx,w in enumerate(all_words):\n",
    "        if w in tokenized_words:\n",
    "            bag[idx] = 1.0\n",
    "    return bag"
   ]
  },
  {
   "cell_type": "code",
   "execution_count": 7,
   "id": "7cec71c6",
   "metadata": {},
   "outputs": [
    {
     "name": "stdout",
     "output_type": "stream",
     "text": [
      "array([1., 0., 1.])"
     ]
    }
   ],
   "source": [
    "bag_of_words(['hi'],['hi','hey','hi'])"
   ]
  },
  {
   "cell_type": "code",
   "execution_count": 8,
   "id": "6c2676a8",
   "metadata": {},
   "outputs": [],
   "source": [
    "data = pd.read_csv('./data.csv')[:5005]"
   ]
  },
  {
   "cell_type": "code",
   "execution_count": 9,
   "id": "fb28b230",
   "metadata": {},
   "outputs": [],
   "source": [
    "data.dropna(inplace=True)"
   ]
  },
  {
   "cell_type": "code",
   "execution_count": 10,
   "id": "733a8e4d",
   "metadata": {},
   "outputs": [
    {
     "name": "stdout",
     "output_type": "stream",
     "text": [
      "      Unnamed: 0              product  \\\n",
      "4763        4763     credit_reporting   \n",
      "4962        4962     credit_reporting   \n",
      "4377        4377  mortgages_and_loans   \n",
      "1837        1837      debt_collection   \n",
      "1980        1980     credit_reporting   \n",
      "...          ...                  ...   \n",
      "1352        1352     credit_reporting   \n",
      "4985        4985     credit_reporting   \n",
      "480          480     credit_reporting   \n",
      "3914        3914     credit_reporting   \n",
      "2651        2651  mortgages_and_loans   \n",
      "\n",
      "                                              narrative  \n",
      "4763  receiving current copy credit report discovere...  \n",
      "4962  receiving current copy credit report discovere...  \n",
      "4377  locked rate loan agent guided web side noticed...  \n",
      "1837  month back contacted company called revco solu...  \n",
      "1980  hard inquiry submitted never authorized called...  \n",
      "...                                                 ...  \n",
      "1352  account appear credit without understanding ev...  \n",
      "4985  receiving notice furloughed employer called co...  \n",
      "480   tx tx co co xxxxxxxx fraudulent application su...  \n",
      "3914  address name account mine sen ftc filed day ag...  \n",
      "2651  according federal student aid page student loa...  \n",
      "\n",
      "[5002 rows x 3 columns]"
     ]
    }
   ],
   "source": [
    "data.sample(frac=1)"
   ]
  },
  {
   "cell_type": "code",
   "execution_count": 11,
   "id": "e00d7d31",
   "metadata": {},
   "outputs": [],
   "source": [
    "data.drop(data.index[data['narrative'] == 'name'],inplace=True)"
   ]
  },
  {
   "cell_type": "code",
   "execution_count": 12,
   "id": "33bc2ddc",
   "metadata": {},
   "outputs": [],
   "source": [
    "X = data['narrative']"
   ]
  },
  {
   "cell_type": "code",
   "execution_count": 13,
   "id": "72c3caf5",
   "metadata": {},
   "outputs": [],
   "source": [
    "y = data['product']"
   ]
  },
  {
   "cell_type": "code",
   "execution_count": 14,
   "id": "b792b3ed",
   "metadata": {},
   "outputs": [],
   "source": [
    "words = []\n",
    "data = []\n",
    "labels = {}\n",
    "idx = 0"
   ]
  },
  {
   "cell_type": "code",
   "execution_count": 15,
   "id": "f384a766",
   "metadata": {},
   "outputs": [],
   "source": [
    "for X_batch,y_batch in zip(X,y):\n",
    "    if y_batch not in list(labels.keys()):\n",
    "        idx += 1\n",
    "        labels[y_batch] = idx"
   ]
  },
  {
   "cell_type": "code",
   "execution_count": 16,
   "id": "9ab64f65",
   "metadata": {},
   "outputs": [
    {
     "name": "stdout",
     "output_type": "stream",
     "text": [
      "{'credit_card': 1,\n",
      " 'retail_banking': 2,\n",
      " 'credit_reporting': 3,\n",
      " 'mortgages_and_loans': 4,\n",
      " 'debt_collection': 5}"
     ]
    }
   ],
   "source": [
    "labels"
   ]
  },
  {
   "cell_type": "code",
   "execution_count": 17,
   "id": "26df39b5",
   "metadata": {},
   "outputs": [],
   "source": [
    "for X_batch,y_batch in tqdm(zip(X,y)):\n",
    "    X_batch = tokenize(X_batch)\n",
    "    new_X = []\n",
    "    for Xb in X_batch:\n",
    "        new_X.append(stem(Xb))\n",
    "    words.extend(new_X)\n",
    "    data.append([X_batch,np.eye(labels[y_batch] + 1,len(labels))[labels[y_batch]]])    "
   ]
  },
  {
   "cell_type": "code",
   "execution_count": 18,
   "id": "5df8125c",
   "metadata": {},
   "outputs": [],
   "source": [
    "words = sorted(set(words))"
   ]
  },
  {
   "cell_type": "code",
   "execution_count": 19,
   "id": "41dd5cb5",
   "metadata": {},
   "outputs": [],
   "source": [
    "np.random.shuffle(data)"
   ]
  },
  {
   "cell_type": "code",
   "execution_count": 20,
   "id": "c6ced111",
   "metadata": {},
   "outputs": [],
   "source": [
    "X = []\n",
    "y = []"
   ]
  },
  {
   "cell_type": "code",
   "execution_count": 21,
   "id": "359ae20c",
   "metadata": {},
   "outputs": [],
   "source": [
    "for sentence,tag in tqdm(data):\n",
    "    X.append(bag_of_words(sentence,words))\n",
    "    y.append(tag)"
   ]
  },
  {
   "cell_type": "code",
   "execution_count": 22,
   "id": "e4362fdd",
   "metadata": {},
   "outputs": [],
   "source": [
    "from sklearn.model_selection import *"
   ]
  },
  {
   "cell_type": "code",
   "execution_count": 23,
   "id": "5952c9bd",
   "metadata": {},
   "outputs": [],
   "source": [
    "X_train,X_test,y_train,y_test = train_test_split(X,y,test_size=0.25,shuffle=False)"
   ]
  },
  {
   "cell_type": "code",
   "execution_count": 24,
   "id": "a77dc8c1",
   "metadata": {},
   "outputs": [],
   "source": [
    "X_train = torch.from_numpy(np.array(X_train)).to(device).float()\n",
    "y_train = torch.from_numpy(np.array(y_train)).to(device).float()\n",
    "X_test = torch.from_numpy(np.array(X_test)).to(device).float()\n",
    "y_test = torch.from_numpy(np.array(y_test)).to(device).float()"
   ]
  },
  {
   "cell_type": "code",
   "execution_count": 25,
   "id": "c959d130",
   "metadata": {},
   "outputs": [],
   "source": [
    "device = 'cuda'"
   ]
  },
  {
   "cell_type": "code",
   "execution_count": 26,
   "id": "bb4a86be",
   "metadata": {},
   "outputs": [],
   "source": [
    "X_train = torch.from_numpy(np.array(X_train)).to(device).float()\n",
    "y_train = torch.from_numpy(np.array(y_train)).to(device).float()\n",
    "X_test = torch.from_numpy(np.array(X_test)).to(device).float()\n",
    "y_test = torch.from_numpy(np.array(y_test)).to(device).float()"
   ]
  },
  {
   "cell_type": "code",
   "execution_count": 27,
   "id": "c0812d19",
   "metadata": {},
   "outputs": [],
   "source": [
    "def get_loss(model,X,y,criterion):\n",
    "    preds = model(X)\n",
    "    loss = criterion(preds,y)\n",
    "    return loss.item()"
   ]
  },
  {
   "cell_type": "code",
   "execution_count": 28,
   "id": "0668ba2b",
   "metadata": {},
   "outputs": [],
   "source": [
    "def get_accuracy(model,X,y):\n",
    "    preds = model(X)\n",
    "    correct = 0\n",
    "    total = 0\n",
    "    for pred,y_batch in zip(preds,y):\n",
    "        pred = int(torch.argmax(pred))\n",
    "        y_batch = int(torch.argmax(y_batch))\n",
    "        if pred == y_batch:\n",
    "            correct += 1\n",
    "        total += 1\n",
    "    acc = round(correct/total,3)*100\n",
    "    return acc"
   ]
  },
  {
   "cell_type": "code",
   "execution_count": 29,
   "id": "ce95354c",
   "metadata": {},
   "outputs": [],
   "source": [
    "class Model(Module):\n",
    "    def __init__(self):\n",
    "        super().__init__()\n",
    "        self.iters = 12\n",
    "        self.activation = ReLU()\n",
    "        self.linear1 = Linear(len(words),512)\n",
    "        self.linear2 = Linear(512,512)\n",
    "        self.output = Linear(512,len(labels))\n",
    "    \n",
    "    def forward(self,X):\n",
    "        preds = self.activation(self.linear1(X))\n",
    "        for _ in range(self.iters):\n",
    "            preds = self.activation(self.linear2(preds))\n",
    "        perds = self.output(preds)\n",
    "        return preds"
   ]
  },
  {
   "cell_type": "code",
   "execution_count": 30,
   "id": "20f2d785",
   "metadata": {},
   "outputs": [],
   "source": [
    "model = Model().to(device)"
   ]
  },
  {
   "cell_type": "code",
   "execution_count": 31,
   "id": "3d3d0a2a",
   "metadata": {},
   "outputs": [],
   "source": [
    "criterion = MSELoss()"
   ]
  },
  {
   "cell_type": "code",
   "execution_count": 32,
   "id": "a9f421a0",
   "metadata": {},
   "outputs": [],
   "source": [
    "optimizer = Adam(model.parameters(),lr=0.001)"
   ]
  },
  {
   "cell_type": "code",
   "execution_count": 33,
   "id": "28a704c5",
   "metadata": {},
   "outputs": [],
   "source": [
    "batch_size = 8"
   ]
  },
  {
   "cell_type": "code",
   "execution_count": 34,
   "id": "78dfea73",
   "metadata": {},
   "outputs": [],
   "source": [
    "epochs = 100"
   ]
  },
  {
   "cell_type": "code",
   "execution_count": 35,
   "id": "edb2c79a",
   "metadata": {},
   "outputs": [],
   "source": [
    "import wandb"
   ]
  },
  {
   "cell_type": "code",
   "execution_count": 36,
   "id": "c7c7bf0f",
   "metadata": {},
   "outputs": [],
   "source": [
    "PROJECT_NAME = 'Consumer-Complaints-NLP'"
   ]
  },
  {
   "cell_type": "code",
   "execution_count": 37,
   "id": "7e9e0a23",
   "metadata": {},
   "outputs": [
    {
     "data": {
      "text/html": [
       "\n",
       "                Tracking run with wandb version 0.12.1<br/>\n",
       "                Syncing run <strong style=\"color:#cdcd00\">baseline</strong> to <a href=\"https://wandb.ai\" target=\"_blank\">Weights & Biases</a> <a href=\"https://docs.wandb.com/integrations/jupyter.html\" target=\"_blank\">(Documentation)</a>.<br/>\n",
       "                Project page: <a href=\"https://wandb.ai/ranuga-d/Consumer-Complaints-NLP\" target=\"_blank\">https://wandb.ai/ranuga-d/Consumer-Complaints-NLP</a><br/>\n",
       "                Run page: <a href=\"https://wandb.ai/ranuga-d/Consumer-Complaints-NLP/runs/n2ckqjn0\" target=\"_blank\">https://wandb.ai/ranuga-d/Consumer-Complaints-NLP/runs/n2ckqjn0</a><br/>\n",
       "                Run data is saved locally in <code>/home/indika/Programming/Projects/Python/Artifical-Intelligence/PyTorch/NLP/Consumer-Complaints-NLP/wandb/run-20210917_105917-n2ckqjn0</code><br/><br/>\n",
       "            "
      ],
      "text/plain": [
       "<IPython.core.display.HTML object>"
      ]
     },
     "metadata": {},
     "output_type": "display_data"
    }
   ],
   "source": [
    "torch.cuda.empty_cache()\n",
    "wandb.init(project=PROJECT_NAME,name='baseline')\n",
    "for _ in tqdm(range(epochs)):\n",
    "    torch.cuda.empty_cache()\n",
    "    for i in range(0,len(X_train),batch_size):\n",
    "        torch.cuda.empty_cache()\n",
    "        X_batch = X_train[i:i+batch_size].to(device).float()\n",
    "        y_batch = y_train[i:i+batch_size].to(device).float()\n",
    "        preds = model(X_batch)\n",
    "        loss = criterion(preds,y_batch)\n",
    "        optimizer.zero_grad()\n",
    "        loss.backward()\n",
    "        optimizer.step()\n",
    "        torch.cuda.empty_cache()\n",
    "    model.eval()\n",
    "    torch.cuda.empty_cache()\n",
    "    wandb.log({'Loss':(get_loss(model,X_train,y_train,criterion)+get_loss(model,X_batch,y_batch,criterion)/2)})\n",
    "    torch.cuda.empty_cache()\n",
    "    wandb.log({'Val Loss':get_loss(model,X_test,y_test,criterion)})\n",
    "    torch.cuda.empty_cache()\n",
    "    wandb.log({'Acc':(get_accuracy(model,X_train,y_train)+get_accuracy(model,X_batch,y_batch))/2})\n",
    "    torch.cuda.empty_cache()\n",
    "    wandb.log({'Val Acc':get_accuracy(model,X_test,y_test)})\n",
    "    torch.cuda.empty_cache()\n",
    "    model.train()\n",
    "wandb.finish()\n",
    "torch.cuda.empty_cache()"
   ]
  },
  {
   "cell_type": "code",
   "execution_count": 38,
   "id": "23f95780",
   "metadata": {},
   "outputs": [
    {
     "name": "stdout",
     "output_type": "stream",
     "text": [
      "torch.Size([8, 5])"
     ]
    }
   ],
   "source": [
    "y_batch.shape"
   ]
  },
  {
   "cell_type": "code",
   "execution_count": 39,
   "id": "03ac6814",
   "metadata": {},
   "outputs": [
    {
     "name": "stdout",
     "output_type": "stream",
     "text": [
      "5"
     ]
    }
   ],
   "source": [
    "len(labels)"
   ]
  },
  {
   "cell_type": "code",
   "execution_count": 40,
   "id": "679edb8a",
   "metadata": {},
   "outputs": [
    {
     "name": "stdout",
     "output_type": "stream",
     "text": [
      "torch.Size([8, 512])"
     ]
    }
   ],
   "source": [
    "preds.shape"
   ]
  },
  {
   "cell_type": "code",
   "execution_count": 41,
   "id": "1b83fd6c",
   "metadata": {},
   "outputs": [
    {
     "name": "stdout",
     "output_type": "stream",
     "text": [
      "tensor([[0.0365, 0.0108, 0.0347,  ..., 0.0129, 0.0000, 0.0036],\n",
      "        [0.0365, 0.0108, 0.0347,  ..., 0.0129, 0.0000, 0.0036],\n",
      "        [0.0365, 0.0108, 0.0347,  ..., 0.0129, 0.0000, 0.0036],\n",
      "        ...,\n",
      "        [0.0365, 0.0108, 0.0347,  ..., 0.0129, 0.0000, 0.0036],\n",
      "        [0.0365, 0.0108, 0.0347,  ..., 0.0129, 0.0000, 0.0036],\n",
      "        [0.0365, 0.0108, 0.0347,  ..., 0.0129, 0.0000, 0.0036]],\n",
      "       device='cuda:0', grad_fn=<ReluBackward0>)"
     ]
    }
   ],
   "source": [
    "preds"
   ]
  },
  {
   "cell_type": "code",
   "execution_count": 42,
   "id": "a2ecc9bf",
   "metadata": {},
   "outputs": [
    {
     "name": "stdout",
     "output_type": "stream",
     "text": [
      "tensor([[0., 1., 0., 0., 0.],\n",
      "        [0., 0., 0., 0., 0.],\n",
      "        [0., 0., 1., 0., 0.],\n",
      "        [0., 0., 0., 1., 0.],\n",
      "        [0., 0., 1., 0., 0.],\n",
      "        [0., 0., 0., 1., 0.],\n",
      "        [0., 0., 0., 1., 0.],\n",
      "        [0., 0., 0., 1., 0.]], device='cuda:0')"
     ]
    }
   ],
   "source": [
    "y_batch"
   ]
  },
  {
   "cell_type": "code",
   "execution_count": 43,
   "id": "aed30c0b",
   "metadata": {},
   "outputs": [
    {
     "name": "stdout",
     "output_type": "stream",
     "text": [
      "tensor([3.6505e-02, 1.0754e-02, 3.4660e-02, 0.0000e+00, 3.2453e-02, 2.2226e-02,\n",
      "        4.3194e-03, 0.0000e+00, 0.0000e+00, 4.0875e-02, 0.0000e+00, 0.0000e+00,\n",
      "        5.3192e-02, 0.0000e+00, 0.0000e+00, 1.3869e-03, 2.9295e-02, 0.0000e+00,\n",
      "        0.0000e+00, 6.1270e-03, 0.0000e+00, 2.7099e-02, 2.3565e-03, 0.0000e+00,\n",
      "        2.7342e-02, 0.0000e+00, 1.0883e-02, 5.2509e-02, 9.3885e-03, 0.0000e+00,\n",
      "        2.0790e-02, 0.0000e+00, 0.0000e+00, 7.5976e-03, 3.3954e-02, 0.0000e+00,\n",
      "        3.1544e-02, 1.8752e-02, 1.0651e-02, 0.0000e+00, 3.8405e-02, 0.0000e+00,\n",
      "        5.7867e-02, 3.5258e-02, 0.0000e+00, 1.2289e-02, 3.4395e-02, 0.0000e+00,\n",
      "        0.0000e+00, 3.7761e-02, 4.7619e-02, 0.0000e+00, 1.6896e-02, 0.0000e+00,\n",
      "        0.0000e+00, 1.0396e-02, 0.0000e+00, 1.4428e-02, 4.7383e-02, 3.4695e-02,\n",
      "        5.4222e-02, 4.3453e-02, 0.0000e+00, 0.0000e+00, 0.0000e+00, 1.9454e-02,\n",
      "        0.0000e+00, 1.1784e-02, 0.0000e+00, 0.0000e+00, 2.3288e-02, 2.4227e-02,\n",
      "        0.0000e+00, 1.1463e-02, 0.0000e+00, 4.2793e-02, 1.8949e-02, 0.0000e+00,\n",
      "        1.9656e-02, 7.4835e-03, 0.0000e+00, 0.0000e+00, 3.9642e-02, 0.0000e+00,\n",
      "        3.4192e-02, 1.5284e-02, 1.3150e-03, 1.9381e-02, 1.1903e-02, 2.4731e-02,\n",
      "        4.3863e-02, 1.8438e-02, 6.3611e-05, 1.8864e-02, 0.0000e+00, 0.0000e+00,\n",
      "        0.0000e+00, 0.0000e+00, 2.3640e-02, 0.0000e+00, 0.0000e+00, 4.8151e-02,\n",
      "        0.0000e+00, 0.0000e+00, 0.0000e+00, 0.0000e+00, 2.7952e-02, 0.0000e+00,\n",
      "        0.0000e+00, 2.8769e-02, 2.8410e-02, 0.0000e+00, 0.0000e+00, 0.0000e+00,\n",
      "        1.8898e-02, 1.2534e-03, 0.0000e+00, 2.9089e-02, 2.3149e-02, 7.8499e-05,\n",
      "        0.0000e+00, 4.6278e-02, 1.7075e-02, 3.4868e-03, 0.0000e+00, 2.4775e-02,\n",
      "        2.5193e-02, 0.0000e+00, 4.6497e-02, 0.0000e+00, 1.1964e-02, 3.8195e-02,\n",
      "        0.0000e+00, 0.0000e+00, 0.0000e+00, 2.6049e-02, 3.9670e-02, 8.2689e-03,\n",
      "        1.3302e-02, 2.7529e-02, 0.0000e+00, 1.8312e-02, 0.0000e+00, 3.9275e-03,\n",
      "        1.3787e-04, 0.0000e+00, 0.0000e+00, 0.0000e+00, 1.9132e-02, 0.0000e+00,\n",
      "        2.0344e-02, 0.0000e+00, 0.0000e+00, 2.9640e-02, 9.8014e-03, 0.0000e+00,\n",
      "        3.7036e-02, 0.0000e+00, 0.0000e+00, 4.5179e-03, 3.1784e-02, 0.0000e+00,\n",
      "        0.0000e+00, 2.9766e-03, 3.8947e-02, 0.0000e+00, 4.2716e-02, 4.6719e-02,\n",
      "        0.0000e+00, 3.2220e-02, 1.8871e-03, 5.0744e-02, 0.0000e+00, 0.0000e+00,\n",
      "        0.0000e+00, 1.5496e-02, 1.4713e-02, 3.5875e-02, 0.0000e+00, 1.0512e-02,\n",
      "        1.4770e-02, 0.0000e+00, 1.8502e-02, 6.3053e-03, 5.4315e-02, 0.0000e+00,\n",
      "        0.0000e+00, 0.0000e+00, 1.6907e-02, 0.0000e+00, 0.0000e+00, 4.9380e-02,\n",
      "        0.0000e+00, 4.5098e-02, 2.8717e-02, 0.0000e+00, 0.0000e+00, 0.0000e+00,\n",
      "        5.3349e-02, 0.0000e+00, 0.0000e+00, 5.7861e-02, 1.8130e-02, 3.3399e-02,\n",
      "        0.0000e+00, 0.0000e+00, 0.0000e+00, 2.0947e-03, 2.5769e-02, 3.1466e-02,\n",
      "        6.6629e-04, 5.9363e-02, 2.0407e-02, 6.1643e-02, 3.7031e-03, 0.0000e+00,\n",
      "        5.0637e-02, 0.0000e+00, 0.0000e+00, 4.5991e-02, 2.4272e-02, 3.6112e-04,\n",
      "        2.0507e-02, 0.0000e+00, 5.1392e-02, 0.0000e+00, 0.0000e+00, 1.7017e-02,\n",
      "        0.0000e+00, 0.0000e+00, 0.0000e+00, 0.0000e+00, 0.0000e+00, 3.9299e-02,\n",
      "        2.1534e-02, 0.0000e+00, 0.0000e+00, 0.0000e+00, 5.2324e-03, 0.0000e+00,\n",
      "        0.0000e+00, 8.0593e-03, 2.0828e-02, 5.1530e-02, 2.4467e-02, 2.8131e-02,\n",
      "        4.7139e-02, 3.4593e-02, 2.8502e-02, 2.1416e-02, 0.0000e+00, 0.0000e+00,\n",
      "        1.0808e-02, 2.4158e-02, 2.2902e-02, 2.0960e-02, 3.6859e-02, 6.7949e-03,\n",
      "        2.7626e-02, 1.0613e-02, 2.4111e-02, 1.6916e-02, 5.0880e-03, 0.0000e+00,\n",
      "        0.0000e+00, 6.5140e-03, 0.0000e+00, 0.0000e+00, 1.6827e-02, 0.0000e+00,\n",
      "        1.5660e-02, 3.1242e-03, 5.1278e-03, 1.0852e-02, 0.0000e+00, 0.0000e+00,\n",
      "        0.0000e+00, 2.8332e-02, 0.0000e+00, 0.0000e+00, 2.5054e-02, 2.5822e-02,\n",
      "        0.0000e+00, 4.1048e-02, 0.0000e+00, 2.2650e-02, 3.0333e-02, 0.0000e+00,\n",
      "        1.5400e-02, 1.9900e-03, 4.2102e-02, 0.0000e+00, 2.5656e-02, 3.3700e-02,\n",
      "        0.0000e+00, 0.0000e+00, 0.0000e+00, 0.0000e+00, 0.0000e+00, 0.0000e+00,\n",
      "        1.4787e-02, 0.0000e+00, 0.0000e+00, 0.0000e+00, 3.2616e-03, 0.0000e+00,\n",
      "        0.0000e+00, 5.2042e-02, 3.7295e-02, 0.0000e+00, 2.6219e-02, 0.0000e+00,\n",
      "        1.5761e-02, 2.3257e-02, 3.6150e-02, 4.2201e-02, 2.8955e-02, 1.2890e-02,\n",
      "        2.8025e-02, 0.0000e+00, 0.0000e+00, 2.2297e-02, 3.0717e-02, 0.0000e+00,\n",
      "        4.1576e-03, 2.2125e-02, 0.0000e+00, 0.0000e+00, 5.3332e-02, 0.0000e+00,\n",
      "        0.0000e+00, 0.0000e+00, 0.0000e+00, 1.7150e-03, 0.0000e+00, 0.0000e+00,\n",
      "        3.6517e-03, 2.2345e-03, 3.5355e-02, 0.0000e+00, 0.0000e+00, 2.3257e-02,\n",
      "        2.7935e-02, 0.0000e+00, 0.0000e+00, 0.0000e+00, 4.6711e-02, 0.0000e+00,\n",
      "        0.0000e+00, 3.2593e-03, 0.0000e+00, 3.4130e-02, 0.0000e+00, 0.0000e+00,\n",
      "        3.9904e-02, 0.0000e+00, 0.0000e+00, 5.3371e-03, 2.2713e-02, 8.5350e-03,\n",
      "        0.0000e+00, 0.0000e+00, 5.2655e-02, 2.0170e-02, 0.0000e+00, 1.3414e-03,\n",
      "        0.0000e+00, 2.2875e-02, 0.0000e+00, 0.0000e+00, 4.3260e-02, 1.7086e-02,\n",
      "        2.0645e-02, 0.0000e+00, 0.0000e+00, 1.2303e-02, 2.4752e-02, 0.0000e+00,\n",
      "        5.8765e-03, 0.0000e+00, 0.0000e+00, 4.3777e-03, 0.0000e+00, 1.2815e-02,\n",
      "        0.0000e+00, 0.0000e+00, 1.8259e-02, 0.0000e+00, 3.0208e-03, 2.3335e-02,\n",
      "        1.3546e-02, 0.0000e+00, 0.0000e+00, 0.0000e+00, 3.9210e-02, 1.6422e-02,\n",
      "        4.2977e-02, 1.2274e-02, 0.0000e+00, 0.0000e+00, 0.0000e+00, 5.2085e-02,\n",
      "        0.0000e+00, 4.0532e-02, 0.0000e+00, 0.0000e+00, 1.4296e-02, 0.0000e+00,\n",
      "        0.0000e+00, 0.0000e+00, 0.0000e+00, 1.1518e-02, 0.0000e+00, 0.0000e+00,\n",
      "        5.2064e-03, 1.1405e-02, 9.3050e-03, 1.1836e-02, 1.7469e-02, 5.2805e-02,\n",
      "        0.0000e+00, 0.0000e+00, 0.0000e+00, 1.1203e-02, 0.0000e+00, 0.0000e+00,\n",
      "        1.1706e-02, 4.1276e-02, 5.4705e-03, 0.0000e+00, 1.5637e-02, 2.5513e-02,\n",
      "        1.7708e-02, 0.0000e+00, 3.0955e-02, 0.0000e+00, 2.7659e-02, 1.6036e-02,\n",
      "        0.0000e+00, 1.0438e-02, 0.0000e+00, 0.0000e+00, 2.5324e-02, 2.7645e-02,\n",
      "        0.0000e+00, 1.0284e-03, 0.0000e+00, 2.3799e-02, 0.0000e+00, 0.0000e+00,\n",
      "        0.0000e+00, 4.1325e-02, 7.2461e-03, 1.7620e-02, 2.5663e-02, 3.8800e-02,\n",
      "        0.0000e+00, 1.4787e-02, 2.8946e-02, 3.1068e-02, 0.0000e+00, 0.0000e+00,\n",
      "        2.1867e-02, 0.0000e+00, 0.0000e+00, 0.0000e+00, 2.2280e-02, 0.0000e+00,\n",
      "        0.0000e+00, 1.0350e-02, 0.0000e+00, 1.4218e-02, 0.0000e+00, 2.8121e-02,\n",
      "        0.0000e+00, 4.0031e-02, 2.7690e-02, 1.9054e-02, 1.2411e-02, 0.0000e+00,\n",
      "        0.0000e+00, 6.7797e-03, 0.0000e+00, 2.9060e-02, 0.0000e+00, 0.0000e+00,\n",
      "        0.0000e+00, 0.0000e+00, 0.0000e+00, 4.9704e-02, 0.0000e+00, 3.7527e-02,\n",
      "        0.0000e+00, 0.0000e+00, 1.6640e-02, 0.0000e+00, 0.0000e+00, 7.1652e-03,\n",
      "        0.0000e+00, 3.3163e-02, 3.5590e-02, 2.2322e-02, 2.6855e-02, 6.7852e-03,\n",
      "        2.6520e-02, 2.6360e-02, 2.9892e-03, 4.1259e-02, 3.1091e-02, 1.2943e-02,\n",
      "        0.0000e+00, 3.5973e-03], device='cuda:0', grad_fn=<SelectBackward>)"
     ]
    }
   ],
   "source": [
    "preds[0]"
   ]
  },
  {
   "cell_type": "code",
   "execution_count": 44,
   "id": "50ba55aa",
   "metadata": {},
   "outputs": [],
   "source": [
    "torch.cuda.empty_cache()\n",
    "wandb.init(project=PROJECT_NAME,name='baseline')\n",
    "for _ in tqdm(range(epochs)):\n",
    "    torch.cuda.empty_cache()\n",
    "    for i in range(0,len(X_train),batch_size):\n",
    "        torch.cuda.empty_cache()\n",
    "        X_batch = X_train[i:i+batch_size].to(device).float()\n",
    "        y_batch = y_train[i:i+batch_size].to(device).float()\n",
    "        preds = model(X_batch)\n",
    "        loss = criterion(preds,y_batch)\n",
    "        optimizer.zero_grad()\n",
    "        loss.backward()\n",
    "        optimizer.step()\n",
    "        torch.cuda.empty_cache()\n",
    "    model.eval()\n",
    "    torch.cuda.empty_cache()\n",
    "    wandb.log({'Loss':(get_loss(model,X_train,y_train,criterion)+get_loss(model,X_batch,y_batch,criterion)/2)})\n",
    "    torch.cuda.empty_cache()\n",
    "    wandb.log({'Val Loss':get_loss(model,X_test,y_test,criterion)})\n",
    "    torch.cuda.empty_cache()\n",
    "    wandb.log({'Acc':(get_accuracy(model,X_train,y_train)+get_accuracy(model,X_batch,y_batch))/2})\n",
    "    torch.cuda.empty_cache()\n",
    "    wandb.log({'Val Acc':get_accuracy(model,X_test,y_test)})\n",
    "    torch.cuda.empty_cache()\n",
    "    model.train()\n",
    "wandb.finish()\n",
    "torch.cuda.empty_cache()"
   ]
  }
 ],
 "metadata": {
  "kernelspec": {
   "display_name": "Python 3",
   "language": "python",
   "name": "python3"
  },
  "language_info": {
   "codemirror_mode": {
    "name": "ipython",
    "version": 3
   },
   "file_extension": ".py",
   "mimetype": "text/x-python",
   "name": "python",
   "nbconvert_exporter": "python",
   "pygments_lexer": "ipython3",
   "version": "3.7.11"
  }
 },
 "nbformat": 4,
 "nbformat_minor": 5
}
